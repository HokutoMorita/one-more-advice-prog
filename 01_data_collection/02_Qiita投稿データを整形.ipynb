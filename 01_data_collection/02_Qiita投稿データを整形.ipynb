{
 "cells": [
  {
   "cell_type": "markdown",
   "metadata": {},
   "source": [
    "# Qiita投稿データを整形する"
   ]
  },
  {
   "cell_type": "code",
   "execution_count": 14,
   "metadata": {},
   "outputs": [],
   "source": [
    "import os\n",
    "import requests\n",
    "import pandas as pd"
   ]
  },
  {
   "cell_type": "markdown",
   "metadata": {},
   "source": [
    "## データの準備"
   ]
  },
  {
   "cell_type": "code",
   "execution_count": 15,
   "metadata": {},
   "outputs": [],
   "source": [
    "qiita_item_df = pd.read_csv('result/qiita_item.csv')"
   ]
  },
  {
   "cell_type": "code",
   "execution_count": 16,
   "metadata": {},
   "outputs": [
    {
     "data": {
      "text/plain": [
       "(10000, 15)"
      ]
     },
     "execution_count": 16,
     "metadata": {},
     "output_type": "execute_result"
    }
   ],
   "source": [
    "qiita_item_df.shape"
   ]
  },
  {
   "cell_type": "code",
   "execution_count": 17,
   "metadata": {},
   "outputs": [
    {
     "data": {
      "text/html": [
       "<div>\n",
       "<style scoped>\n",
       "    .dataframe tbody tr th:only-of-type {\n",
       "        vertical-align: middle;\n",
       "    }\n",
       "\n",
       "    .dataframe tbody tr th {\n",
       "        vertical-align: top;\n",
       "    }\n",
       "\n",
       "    .dataframe thead th {\n",
       "        text-align: right;\n",
       "    }\n",
       "</style>\n",
       "<table border=\"1\" class=\"dataframe\">\n",
       "  <thead>\n",
       "    <tr style=\"text-align: right;\">\n",
       "      <th></th>\n",
       "      <th>rendered_body</th>\n",
       "      <th>body</th>\n",
       "      <th>coediting</th>\n",
       "      <th>comments_count</th>\n",
       "      <th>created_at</th>\n",
       "      <th>group</th>\n",
       "      <th>id</th>\n",
       "      <th>likes_count</th>\n",
       "      <th>private</th>\n",
       "      <th>reactions_count</th>\n",
       "      <th>title</th>\n",
       "      <th>updated_at</th>\n",
       "      <th>url</th>\n",
       "      <th>page_views_count</th>\n",
       "      <th>team_membership</th>\n",
       "    </tr>\n",
       "  </thead>\n",
       "  <tbody>\n",
       "    <tr>\n",
       "      <th>0</th>\n",
       "      <td>&lt;p&gt;▪️ 違うサイトの表示を自身のサイト内に貼り付けるには　？&lt;/p&gt;\\n\\n&lt;p&gt;一見難...</td>\n",
       "      <td>▪️ 違うサイトの表示を自身のサイト内に貼り付けるには　？\\n\\n一見難しく考えるかもしれま...</td>\n",
       "      <td>False</td>\n",
       "      <td>0</td>\n",
       "      <td>2021-07-23T08:40:10+09:00</td>\n",
       "      <td>NaN</td>\n",
       "      <td>0425cf1191d5e9ffa627</td>\n",
       "      <td>0</td>\n",
       "      <td>False</td>\n",
       "      <td>0</td>\n",
       "      <td>サイト内に違うサイトを表示</td>\n",
       "      <td>2021-07-23T08:40:59+09:00</td>\n",
       "      <td>https://qiita.com/wagadayon/items/0425cf1191d5...</td>\n",
       "      <td>NaN</td>\n",
       "      <td>NaN</td>\n",
       "    </tr>\n",
       "  </tbody>\n",
       "</table>\n",
       "</div>"
      ],
      "text/plain": [
       "                                       rendered_body  \\\n",
       "0  <p>▪️ 違うサイトの表示を自身のサイト内に貼り付けるには　？</p>\\n\\n<p>一見難...   \n",
       "\n",
       "                                                body  coediting  \\\n",
       "0  ▪️ 違うサイトの表示を自身のサイト内に貼り付けるには　？\\n\\n一見難しく考えるかもしれま...      False   \n",
       "\n",
       "   comments_count                 created_at  group                    id  \\\n",
       "0               0  2021-07-23T08:40:10+09:00    NaN  0425cf1191d5e9ffa627   \n",
       "\n",
       "   likes_count  private  reactions_count          title  \\\n",
       "0            0    False                0  サイト内に違うサイトを表示   \n",
       "\n",
       "                  updated_at  \\\n",
       "0  2021-07-23T08:40:59+09:00   \n",
       "\n",
       "                                                 url  page_views_count  \\\n",
       "0  https://qiita.com/wagadayon/items/0425cf1191d5...               NaN   \n",
       "\n",
       "   team_membership  \n",
       "0              NaN  "
      ]
     },
     "execution_count": 17,
     "metadata": {},
     "output_type": "execute_result"
    }
   ],
   "source": [
    "qiita_item_df.head(1)"
   ]
  },
  {
   "cell_type": "markdown",
   "metadata": {},
   "source": [
    "## 必要なカラムに絞り込む"
   ]
  },
  {
   "cell_type": "code",
   "execution_count": 18,
   "metadata": {},
   "outputs": [
    {
     "data": {
      "text/plain": [
       "Index(['rendered_body', 'body', 'coediting', 'comments_count', 'created_at',\n",
       "       'group', 'id', 'likes_count', 'private', 'reactions_count', 'title',\n",
       "       'updated_at', 'url', 'page_views_count', 'team_membership'],\n",
       "      dtype='object')"
      ]
     },
     "execution_count": 18,
     "metadata": {},
     "output_type": "execute_result"
    }
   ],
   "source": [
    "qiita_item_df.columns"
   ]
  },
  {
   "cell_type": "code",
   "execution_count": 27,
   "metadata": {},
   "outputs": [],
   "source": [
    "required_columns = ['id', 'body', 'coediting', 'comments_count', 'likes_count', \n",
    "                   'private', 'reactions_count', 'title', 'url', 'page_views_count']"
   ]
  },
  {
   "cell_type": "code",
   "execution_count": 20,
   "metadata": {},
   "outputs": [],
   "source": [
    "qiita_item_df = qiita_item_df[required_columns]"
   ]
  },
  {
   "cell_type": "code",
   "execution_count": 21,
   "metadata": {},
   "outputs": [
    {
     "data": {
      "text/plain": [
       "(10000, 12)"
      ]
     },
     "execution_count": 21,
     "metadata": {},
     "output_type": "execute_result"
    }
   ],
   "source": [
    "qiita_item_df.shape"
   ]
  },
  {
   "cell_type": "code",
   "execution_count": 22,
   "metadata": {},
   "outputs": [],
   "source": [
    "qiita_item_df['user_id'] = 'hoge'"
   ]
  },
  {
   "cell_type": "code",
   "execution_count": 23,
   "metadata": {},
   "outputs": [
    {
     "data": {
      "text/plain": [
       "(10000, 13)"
      ]
     },
     "execution_count": 23,
     "metadata": {},
     "output_type": "execute_result"
    }
   ],
   "source": [
    "qiita_item_df.shape"
   ]
  },
  {
   "cell_type": "code",
   "execution_count": 24,
   "metadata": {},
   "outputs": [
    {
     "data": {
      "text/plain": [
       "Index(['id', 'body', 'coediting', 'comments_count', 'created_at',\n",
       "       'likes_count', 'private', 'reactions_count', 'title', 'updated_at',\n",
       "       'url', 'page_views_count', 'user_id'],\n",
       "      dtype='object')"
      ]
     },
     "execution_count": 24,
     "metadata": {},
     "output_type": "execute_result"
    }
   ],
   "source": [
    "qiita_item_df.columns"
   ]
  },
  {
   "cell_type": "code",
   "execution_count": 25,
   "metadata": {},
   "outputs": [],
   "source": [
    "qiita_item_df = qiita_item_df.rename(columns={'id': 'item_id', 'body': 'text'})"
   ]
  },
  {
   "cell_type": "code",
   "execution_count": 26,
   "metadata": {},
   "outputs": [
    {
     "data": {
      "text/plain": [
       "Index(['item_id', 'text', 'coediting', 'comments_count', 'created_at',\n",
       "       'likes_count', 'private', 'reactions_count', 'title', 'updated_at',\n",
       "       'url', 'page_views_count', 'user_id'],\n",
       "      dtype='object')"
      ]
     },
     "execution_count": 26,
     "metadata": {},
     "output_type": "execute_result"
    }
   ],
   "source": [
    "qiita_item_df.columns"
   ]
  },
  {
   "cell_type": "code",
   "execution_count": null,
   "metadata": {},
   "outputs": [],
   "source": []
  },
  {
   "cell_type": "markdown",
   "metadata": {},
   "source": [
    "## created_atとupdated_atのデータ型を調べる"
   ]
  },
  {
   "cell_type": "code",
   "execution_count": null,
   "metadata": {},
   "outputs": [],
   "source": []
  },
  {
   "cell_type": "code",
   "execution_count": null,
   "metadata": {},
   "outputs": [],
   "source": []
  }
 ],
 "metadata": {
  "kernelspec": {
   "display_name": "Python 3",
   "language": "python",
   "name": "python3"
  },
  "language_info": {
   "codemirror_mode": {
    "name": "ipython",
    "version": 3
   },
   "file_extension": ".py",
   "mimetype": "text/x-python",
   "name": "python",
   "nbconvert_exporter": "python",
   "pygments_lexer": "ipython3",
   "version": "3.7.6"
  }
 },
 "nbformat": 4,
 "nbformat_minor": 4
}
