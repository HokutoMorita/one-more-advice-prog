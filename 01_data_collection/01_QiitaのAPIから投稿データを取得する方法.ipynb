{
 "cells": [
  {
   "cell_type": "markdown",
   "metadata": {},
   "source": [
    "# QiitaのAPIからデータを取得する"
   ]
  },
  {
   "cell_type": "code",
   "execution_count": 22,
   "metadata": {},
   "outputs": [],
   "source": [
    "import os\n",
    "import requests\n",
    "import pandas as pd"
   ]
  },
  {
   "cell_type": "code",
   "execution_count": 2,
   "metadata": {},
   "outputs": [],
   "source": [
    "os.environ['QIITA_API_KEY'] = 'edfaad48f477034471e92b15c7dfa8904f49c61f'"
   ]
  },
  {
   "cell_type": "code",
   "execution_count": 3,
   "metadata": {},
   "outputs": [
    {
     "data": {
      "text/plain": [
       "'edfaad48f477034471e92b15c7dfa8904f49c61f'"
      ]
     },
     "execution_count": 3,
     "metadata": {},
     "output_type": "execute_result"
    }
   ],
   "source": [
    "os.getenv('QIITA_API_KEY')"
   ]
  },
  {
   "cell_type": "code",
   "execution_count": null,
   "metadata": {},
   "outputs": [],
   "source": []
  },
  {
   "cell_type": "markdown",
   "metadata": {},
   "source": [
    "## 関数定義"
   ]
  },
  {
   "cell_type": "code",
   "execution_count": 14,
   "metadata": {},
   "outputs": [],
   "source": [
    "def request_qiita_data(url):\n",
    "    \"\"\"\n",
    "    QiitaのAPIを呼び出してデータを取得する\n",
    "    \"\"\"\n",
    "    headers = {\n",
    "        'Content-Type': 'application/json',\n",
    "        'Charset': 'utf-8',\n",
    "        'Authorization': 'Bearer {}'.format(os.getenv('QIITA_API_KEY'))\n",
    "    }\n",
    "    response = requests.get(url=url, headers=headers)\n",
    "    print('{}, {}'.format(response.status_code, response.url))\n",
    "    return response"
   ]
  },
  {
   "cell_type": "code",
   "execution_count": 44,
   "metadata": {},
   "outputs": [],
   "source": [
    "def get_qiita_item():\n",
    "    \"\"\"\n",
    "    QiitaのAPIからデータを取集する\n",
    "    \n",
    "    下記の条件から、最大1万件のデータが取得できる\n",
    "    QiitaのAPIは、1回のレスポンスで最大100件\n",
    "    ページング番号は100まで\n",
    "    \"\"\"\n",
    "    item_list = []\n",
    "    for i in range(1, 101):\n",
    "        url = 'https://qiita.com/api/v2/items?&per_page=100&page={page}'.format(page=i)\n",
    "        response = request_qiita_data(url)\n",
    "        result_list = response.json()\n",
    "        item_list.extend(result_list)\n",
    "    return pd.DataFrame.from_records(item_list)"
   ]
  },
  {
   "cell_type": "code",
   "execution_count": null,
   "metadata": {},
   "outputs": [],
   "source": []
  },
  {
   "cell_type": "code",
   "execution_count": null,
   "metadata": {},
   "outputs": [],
   "source": []
  },
  {
   "cell_type": "code",
   "execution_count": null,
   "metadata": {},
   "outputs": [],
   "source": []
  },
  {
   "cell_type": "markdown",
   "metadata": {},
   "source": [
    "## 呼び出し"
   ]
  },
  {
   "cell_type": "code",
   "execution_count": 45,
   "metadata": {},
   "outputs": [
    {
     "name": "stdout",
     "output_type": "stream",
     "text": [
      "200, https://qiita.com/api/v2/items?&per_page=100&page=1\n",
      "200, https://qiita.com/api/v2/items?&per_page=100&page=2\n",
      "200, https://qiita.com/api/v2/items?&per_page=100&page=3\n",
      "200, https://qiita.com/api/v2/items?&per_page=100&page=4\n",
      "200, https://qiita.com/api/v2/items?&per_page=100&page=5\n",
      "200, https://qiita.com/api/v2/items?&per_page=100&page=6\n",
      "200, https://qiita.com/api/v2/items?&per_page=100&page=7\n",
      "200, https://qiita.com/api/v2/items?&per_page=100&page=8\n",
      "200, https://qiita.com/api/v2/items?&per_page=100&page=9\n",
      "200, https://qiita.com/api/v2/items?&per_page=100&page=10\n",
      "200, https://qiita.com/api/v2/items?&per_page=100&page=11\n",
      "200, https://qiita.com/api/v2/items?&per_page=100&page=12\n",
      "200, https://qiita.com/api/v2/items?&per_page=100&page=13\n",
      "200, https://qiita.com/api/v2/items?&per_page=100&page=14\n",
      "200, https://qiita.com/api/v2/items?&per_page=100&page=15\n",
      "200, https://qiita.com/api/v2/items?&per_page=100&page=16\n",
      "200, https://qiita.com/api/v2/items?&per_page=100&page=17\n",
      "200, https://qiita.com/api/v2/items?&per_page=100&page=18\n",
      "200, https://qiita.com/api/v2/items?&per_page=100&page=19\n",
      "200, https://qiita.com/api/v2/items?&per_page=100&page=20\n",
      "200, https://qiita.com/api/v2/items?&per_page=100&page=21\n",
      "200, https://qiita.com/api/v2/items?&per_page=100&page=22\n",
      "200, https://qiita.com/api/v2/items?&per_page=100&page=23\n",
      "200, https://qiita.com/api/v2/items?&per_page=100&page=24\n",
      "200, https://qiita.com/api/v2/items?&per_page=100&page=25\n",
      "200, https://qiita.com/api/v2/items?&per_page=100&page=26\n",
      "200, https://qiita.com/api/v2/items?&per_page=100&page=27\n",
      "200, https://qiita.com/api/v2/items?&per_page=100&page=28\n",
      "200, https://qiita.com/api/v2/items?&per_page=100&page=29\n",
      "200, https://qiita.com/api/v2/items?&per_page=100&page=30\n",
      "200, https://qiita.com/api/v2/items?&per_page=100&page=31\n",
      "200, https://qiita.com/api/v2/items?&per_page=100&page=32\n",
      "200, https://qiita.com/api/v2/items?&per_page=100&page=33\n",
      "200, https://qiita.com/api/v2/items?&per_page=100&page=34\n",
      "200, https://qiita.com/api/v2/items?&per_page=100&page=35\n",
      "200, https://qiita.com/api/v2/items?&per_page=100&page=36\n",
      "200, https://qiita.com/api/v2/items?&per_page=100&page=37\n",
      "200, https://qiita.com/api/v2/items?&per_page=100&page=38\n",
      "200, https://qiita.com/api/v2/items?&per_page=100&page=39\n",
      "200, https://qiita.com/api/v2/items?&per_page=100&page=40\n",
      "200, https://qiita.com/api/v2/items?&per_page=100&page=41\n",
      "200, https://qiita.com/api/v2/items?&per_page=100&page=42\n",
      "200, https://qiita.com/api/v2/items?&per_page=100&page=43\n",
      "200, https://qiita.com/api/v2/items?&per_page=100&page=44\n",
      "200, https://qiita.com/api/v2/items?&per_page=100&page=45\n",
      "200, https://qiita.com/api/v2/items?&per_page=100&page=46\n",
      "200, https://qiita.com/api/v2/items?&per_page=100&page=47\n",
      "200, https://qiita.com/api/v2/items?&per_page=100&page=48\n",
      "200, https://qiita.com/api/v2/items?&per_page=100&page=49\n",
      "200, https://qiita.com/api/v2/items?&per_page=100&page=50\n",
      "200, https://qiita.com/api/v2/items?&per_page=100&page=51\n",
      "200, https://qiita.com/api/v2/items?&per_page=100&page=52\n",
      "200, https://qiita.com/api/v2/items?&per_page=100&page=53\n",
      "200, https://qiita.com/api/v2/items?&per_page=100&page=54\n",
      "200, https://qiita.com/api/v2/items?&per_page=100&page=55\n",
      "200, https://qiita.com/api/v2/items?&per_page=100&page=56\n",
      "200, https://qiita.com/api/v2/items?&per_page=100&page=57\n",
      "200, https://qiita.com/api/v2/items?&per_page=100&page=58\n",
      "200, https://qiita.com/api/v2/items?&per_page=100&page=59\n",
      "200, https://qiita.com/api/v2/items?&per_page=100&page=60\n",
      "200, https://qiita.com/api/v2/items?&per_page=100&page=61\n",
      "200, https://qiita.com/api/v2/items?&per_page=100&page=62\n",
      "200, https://qiita.com/api/v2/items?&per_page=100&page=63\n",
      "200, https://qiita.com/api/v2/items?&per_page=100&page=64\n",
      "200, https://qiita.com/api/v2/items?&per_page=100&page=65\n",
      "200, https://qiita.com/api/v2/items?&per_page=100&page=66\n",
      "200, https://qiita.com/api/v2/items?&per_page=100&page=67\n",
      "200, https://qiita.com/api/v2/items?&per_page=100&page=68\n",
      "200, https://qiita.com/api/v2/items?&per_page=100&page=69\n",
      "200, https://qiita.com/api/v2/items?&per_page=100&page=70\n",
      "200, https://qiita.com/api/v2/items?&per_page=100&page=71\n",
      "200, https://qiita.com/api/v2/items?&per_page=100&page=72\n",
      "200, https://qiita.com/api/v2/items?&per_page=100&page=73\n",
      "200, https://qiita.com/api/v2/items?&per_page=100&page=74\n",
      "200, https://qiita.com/api/v2/items?&per_page=100&page=75\n",
      "200, https://qiita.com/api/v2/items?&per_page=100&page=76\n",
      "200, https://qiita.com/api/v2/items?&per_page=100&page=77\n",
      "200, https://qiita.com/api/v2/items?&per_page=100&page=78\n",
      "200, https://qiita.com/api/v2/items?&per_page=100&page=79\n",
      "200, https://qiita.com/api/v2/items?&per_page=100&page=80\n",
      "200, https://qiita.com/api/v2/items?&per_page=100&page=81\n",
      "200, https://qiita.com/api/v2/items?&per_page=100&page=82\n",
      "200, https://qiita.com/api/v2/items?&per_page=100&page=83\n",
      "200, https://qiita.com/api/v2/items?&per_page=100&page=84\n",
      "200, https://qiita.com/api/v2/items?&per_page=100&page=85\n",
      "200, https://qiita.com/api/v2/items?&per_page=100&page=86\n",
      "200, https://qiita.com/api/v2/items?&per_page=100&page=87\n",
      "200, https://qiita.com/api/v2/items?&per_page=100&page=88\n",
      "200, https://qiita.com/api/v2/items?&per_page=100&page=89\n",
      "200, https://qiita.com/api/v2/items?&per_page=100&page=90\n",
      "200, https://qiita.com/api/v2/items?&per_page=100&page=91\n",
      "200, https://qiita.com/api/v2/items?&per_page=100&page=92\n",
      "200, https://qiita.com/api/v2/items?&per_page=100&page=93\n",
      "200, https://qiita.com/api/v2/items?&per_page=100&page=94\n",
      "200, https://qiita.com/api/v2/items?&per_page=100&page=95\n",
      "200, https://qiita.com/api/v2/items?&per_page=100&page=96\n",
      "200, https://qiita.com/api/v2/items?&per_page=100&page=97\n",
      "200, https://qiita.com/api/v2/items?&per_page=100&page=98\n",
      "200, https://qiita.com/api/v2/items?&per_page=100&page=99\n",
      "200, https://qiita.com/api/v2/items?&per_page=100&page=100\n"
     ]
    }
   ],
   "source": [
    "result_item_df = get_qiita_item()"
   ]
  },
  {
   "cell_type": "code",
   "execution_count": 46,
   "metadata": {},
   "outputs": [
    {
     "data": {
      "text/plain": [
       "(10000, 17)"
      ]
     },
     "execution_count": 46,
     "metadata": {},
     "output_type": "execute_result"
    }
   ],
   "source": [
    "result_item_df.shape"
   ]
  },
  {
   "cell_type": "code",
   "execution_count": 47,
   "metadata": {},
   "outputs": [
    {
     "data": {
      "text/html": [
       "<div>\n",
       "<style scoped>\n",
       "    .dataframe tbody tr th:only-of-type {\n",
       "        vertical-align: middle;\n",
       "    }\n",
       "\n",
       "    .dataframe tbody tr th {\n",
       "        vertical-align: top;\n",
       "    }\n",
       "\n",
       "    .dataframe thead th {\n",
       "        text-align: right;\n",
       "    }\n",
       "</style>\n",
       "<table border=\"1\" class=\"dataframe\">\n",
       "  <thead>\n",
       "    <tr style=\"text-align: right;\">\n",
       "      <th></th>\n",
       "      <th>rendered_body</th>\n",
       "      <th>body</th>\n",
       "      <th>coediting</th>\n",
       "      <th>comments_count</th>\n",
       "      <th>created_at</th>\n",
       "      <th>group</th>\n",
       "      <th>id</th>\n",
       "      <th>likes_count</th>\n",
       "      <th>private</th>\n",
       "      <th>reactions_count</th>\n",
       "      <th>tags</th>\n",
       "      <th>title</th>\n",
       "      <th>updated_at</th>\n",
       "      <th>url</th>\n",
       "      <th>user</th>\n",
       "      <th>page_views_count</th>\n",
       "      <th>team_membership</th>\n",
       "    </tr>\n",
       "  </thead>\n",
       "  <tbody>\n",
       "    <tr>\n",
       "      <th>0</th>\n",
       "      <td>&lt;p&gt;▪️ 違うサイトの表示を自身のサイト内に貼り付けるには　？&lt;/p&gt;\\n\\n&lt;p&gt;一見難...</td>\n",
       "      <td>▪️ 違うサイトの表示を自身のサイト内に貼り付けるには　？\\n\\n一見難しく考えるかもしれま...</td>\n",
       "      <td>False</td>\n",
       "      <td>0</td>\n",
       "      <td>2021-07-23T08:40:10+09:00</td>\n",
       "      <td>None</td>\n",
       "      <td>0425cf1191d5e9ffa627</td>\n",
       "      <td>0</td>\n",
       "      <td>False</td>\n",
       "      <td>0</td>\n",
       "      <td>[{'name': 'Ruby', 'versions': []}, {'name': 'H...</td>\n",
       "      <td>サイト内に違うサイトを表示</td>\n",
       "      <td>2021-07-23T08:40:59+09:00</td>\n",
       "      <td>https://qiita.com/wagadayon/items/0425cf1191d5...</td>\n",
       "      <td>{'description': 'I'm univercity student.  My n...</td>\n",
       "      <td>None</td>\n",
       "      <td>None</td>\n",
       "    </tr>\n",
       "  </tbody>\n",
       "</table>\n",
       "</div>"
      ],
      "text/plain": [
       "                                       rendered_body  \\\n",
       "0  <p>▪️ 違うサイトの表示を自身のサイト内に貼り付けるには　？</p>\\n\\n<p>一見難...   \n",
       "\n",
       "                                                body  coediting  \\\n",
       "0  ▪️ 違うサイトの表示を自身のサイト内に貼り付けるには　？\\n\\n一見難しく考えるかもしれま...      False   \n",
       "\n",
       "   comments_count                 created_at group                    id  \\\n",
       "0               0  2021-07-23T08:40:10+09:00  None  0425cf1191d5e9ffa627   \n",
       "\n",
       "   likes_count  private  reactions_count  \\\n",
       "0            0    False                0   \n",
       "\n",
       "                                                tags          title  \\\n",
       "0  [{'name': 'Ruby', 'versions': []}, {'name': 'H...  サイト内に違うサイトを表示   \n",
       "\n",
       "                  updated_at  \\\n",
       "0  2021-07-23T08:40:59+09:00   \n",
       "\n",
       "                                                 url  \\\n",
       "0  https://qiita.com/wagadayon/items/0425cf1191d5...   \n",
       "\n",
       "                                                user page_views_count  \\\n",
       "0  {'description': 'I'm univercity student.  My n...             None   \n",
       "\n",
       "  team_membership  \n",
       "0            None  "
      ]
     },
     "execution_count": 47,
     "metadata": {},
     "output_type": "execute_result"
    }
   ],
   "source": [
    "result_item_df.head(1)"
   ]
  },
  {
   "cell_type": "code",
   "execution_count": 49,
   "metadata": {},
   "outputs": [
    {
     "data": {
      "text/plain": [
       "(10000, 15)"
      ]
     },
     "execution_count": 49,
     "metadata": {},
     "output_type": "execute_result"
    }
   ],
   "source": [
    "result_item_df.drop(['tags', 'user'], axis=1).shape"
   ]
  },
  {
   "cell_type": "code",
   "execution_count": 48,
   "metadata": {},
   "outputs": [
    {
     "data": {
      "text/html": [
       "<div>\n",
       "<style scoped>\n",
       "    .dataframe tbody tr th:only-of-type {\n",
       "        vertical-align: middle;\n",
       "    }\n",
       "\n",
       "    .dataframe tbody tr th {\n",
       "        vertical-align: top;\n",
       "    }\n",
       "\n",
       "    .dataframe thead th {\n",
       "        text-align: right;\n",
       "    }\n",
       "</style>\n",
       "<table border=\"1\" class=\"dataframe\">\n",
       "  <thead>\n",
       "    <tr style=\"text-align: right;\">\n",
       "      <th></th>\n",
       "      <th>rendered_body</th>\n",
       "      <th>body</th>\n",
       "      <th>coediting</th>\n",
       "      <th>comments_count</th>\n",
       "      <th>created_at</th>\n",
       "      <th>group</th>\n",
       "      <th>id</th>\n",
       "      <th>likes_count</th>\n",
       "      <th>private</th>\n",
       "      <th>reactions_count</th>\n",
       "      <th>title</th>\n",
       "      <th>updated_at</th>\n",
       "      <th>url</th>\n",
       "      <th>page_views_count</th>\n",
       "      <th>team_membership</th>\n",
       "    </tr>\n",
       "  </thead>\n",
       "  <tbody>\n",
       "    <tr>\n",
       "      <th>0</th>\n",
       "      <td>&lt;p&gt;▪️ 違うサイトの表示を自身のサイト内に貼り付けるには　？&lt;/p&gt;\\n\\n&lt;p&gt;一見難...</td>\n",
       "      <td>▪️ 違うサイトの表示を自身のサイト内に貼り付けるには　？\\n\\n一見難しく考えるかもしれま...</td>\n",
       "      <td>False</td>\n",
       "      <td>0</td>\n",
       "      <td>2021-07-23T08:40:10+09:00</td>\n",
       "      <td>None</td>\n",
       "      <td>0425cf1191d5e9ffa627</td>\n",
       "      <td>0</td>\n",
       "      <td>False</td>\n",
       "      <td>0</td>\n",
       "      <td>サイト内に違うサイトを表示</td>\n",
       "      <td>2021-07-23T08:40:59+09:00</td>\n",
       "      <td>https://qiita.com/wagadayon/items/0425cf1191d5...</td>\n",
       "      <td>None</td>\n",
       "      <td>None</td>\n",
       "    </tr>\n",
       "  </tbody>\n",
       "</table>\n",
       "</div>"
      ],
      "text/plain": [
       "                                       rendered_body  \\\n",
       "0  <p>▪️ 違うサイトの表示を自身のサイト内に貼り付けるには　？</p>\\n\\n<p>一見難...   \n",
       "\n",
       "                                                body  coediting  \\\n",
       "0  ▪️ 違うサイトの表示を自身のサイト内に貼り付けるには　？\\n\\n一見難しく考えるかもしれま...      False   \n",
       "\n",
       "   comments_count                 created_at group                    id  \\\n",
       "0               0  2021-07-23T08:40:10+09:00  None  0425cf1191d5e9ffa627   \n",
       "\n",
       "   likes_count  private  reactions_count          title  \\\n",
       "0            0    False                0  サイト内に違うサイトを表示   \n",
       "\n",
       "                  updated_at  \\\n",
       "0  2021-07-23T08:40:59+09:00   \n",
       "\n",
       "                                                 url page_views_count  \\\n",
       "0  https://qiita.com/wagadayon/items/0425cf1191d5...             None   \n",
       "\n",
       "  team_membership  \n",
       "0            None  "
      ]
     },
     "execution_count": 48,
     "metadata": {},
     "output_type": "execute_result"
    }
   ],
   "source": [
    "result_item_df.drop(['tags', 'user'], axis=1).head(1)"
   ]
  },
  {
   "cell_type": "code",
   "execution_count": 50,
   "metadata": {},
   "outputs": [],
   "source": [
    "result_item_df.drop(['tags', 'user'], axis=1).to_csv('result/qiita_item.csv', index=False, quoting=1, line_terminator='\\r\\n')"
   ]
  },
  {
   "cell_type": "markdown",
   "metadata": {},
   "source": [
    "## 実験"
   ]
  },
  {
   "cell_type": "code",
   "execution_count": 32,
   "metadata": {},
   "outputs": [],
   "source": [
    "url = 'https://qiita.com/api/v2/items?&per_page=100&page=2'"
   ]
  },
  {
   "cell_type": "code",
   "execution_count": 33,
   "metadata": {},
   "outputs": [
    {
     "name": "stdout",
     "output_type": "stream",
     "text": [
      "200, https://qiita.com/api/v2/items?&per_page=100&page=2\n"
     ]
    }
   ],
   "source": [
    "response = request_qiita_data(url)"
   ]
  },
  {
   "cell_type": "code",
   "execution_count": 34,
   "metadata": {},
   "outputs": [],
   "source": [
    "result_list = response.json()"
   ]
  },
  {
   "cell_type": "code",
   "execution_count": 35,
   "metadata": {},
   "outputs": [
    {
     "data": {
      "text/plain": [
       "100"
      ]
     },
     "execution_count": 35,
     "metadata": {},
     "output_type": "execute_result"
    }
   ],
   "source": [
    "len(result_list)"
   ]
  },
  {
   "cell_type": "code",
   "execution_count": 36,
   "metadata": {},
   "outputs": [
    {
     "data": {
      "text/plain": [
       "list"
      ]
     },
     "execution_count": 36,
     "metadata": {},
     "output_type": "execute_result"
    }
   ],
   "source": [
    "type(result_list)"
   ]
  },
  {
   "cell_type": "markdown",
   "metadata": {},
   "source": [
    "### APIレスポンスデータをpandas化してみる"
   ]
  },
  {
   "cell_type": "code",
   "execution_count": 37,
   "metadata": {},
   "outputs": [],
   "source": [
    "result_df = pd.DataFrame.from_records(result_list)"
   ]
  },
  {
   "cell_type": "code",
   "execution_count": 27,
   "metadata": {},
   "outputs": [
    {
     "data": {
      "text/plain": [
       "(100, 17)"
      ]
     },
     "execution_count": 27,
     "metadata": {},
     "output_type": "execute_result"
    }
   ],
   "source": [
    "result_df.shape"
   ]
  },
  {
   "cell_type": "code",
   "execution_count": 30,
   "metadata": {},
   "outputs": [
    {
     "data": {
      "text/html": [
       "<div>\n",
       "<style scoped>\n",
       "    .dataframe tbody tr th:only-of-type {\n",
       "        vertical-align: middle;\n",
       "    }\n",
       "\n",
       "    .dataframe tbody tr th {\n",
       "        vertical-align: top;\n",
       "    }\n",
       "\n",
       "    .dataframe thead th {\n",
       "        text-align: right;\n",
       "    }\n",
       "</style>\n",
       "<table border=\"1\" class=\"dataframe\">\n",
       "  <thead>\n",
       "    <tr style=\"text-align: right;\">\n",
       "      <th></th>\n",
       "      <th>rendered_body</th>\n",
       "      <th>body</th>\n",
       "      <th>coediting</th>\n",
       "      <th>comments_count</th>\n",
       "      <th>created_at</th>\n",
       "      <th>group</th>\n",
       "      <th>id</th>\n",
       "      <th>likes_count</th>\n",
       "      <th>private</th>\n",
       "      <th>reactions_count</th>\n",
       "      <th>tags</th>\n",
       "      <th>title</th>\n",
       "      <th>updated_at</th>\n",
       "      <th>url</th>\n",
       "      <th>user</th>\n",
       "      <th>page_views_count</th>\n",
       "      <th>team_membership</th>\n",
       "    </tr>\n",
       "  </thead>\n",
       "  <tbody>\n",
       "    <tr>\n",
       "      <th>0</th>\n",
       "      <td>\\n&lt;h1&gt;\\n&lt;span id=\"はじめに\" class=\"fragment\"&gt;&lt;/spa...</td>\n",
       "      <td># はじめに\\n\\nAxrossを運営している藤原です。\\n\\n**[Axross](htt...</td>\n",
       "      <td>False</td>\n",
       "      <td>0</td>\n",
       "      <td>2021-07-23T08:21:54+09:00</td>\n",
       "      <td>None</td>\n",
       "      <td>e3a97eef46cbef67eb7a</td>\n",
       "      <td>1</td>\n",
       "      <td>False</td>\n",
       "      <td>0</td>\n",
       "      <td>[{'name': 'Python', 'versions': []}, {'name': ...</td>\n",
       "      <td>自然言語処理技術を活用したレシピの紹介</td>\n",
       "      <td>2021-07-23T08:21:54+09:00</td>\n",
       "      <td>https://qiita.com/Axross_SBiv/items/e3a97eef46...</td>\n",
       "      <td>{'description': '現役エンジニアによる様々な業務で活かせる実践教材\"レシピ\"...</td>\n",
       "      <td>None</td>\n",
       "      <td>None</td>\n",
       "    </tr>\n",
       "  </tbody>\n",
       "</table>\n",
       "</div>"
      ],
      "text/plain": [
       "                                       rendered_body  \\\n",
       "0  \\n<h1>\\n<span id=\"はじめに\" class=\"fragment\"></spa...   \n",
       "\n",
       "                                                body  coediting  \\\n",
       "0  # はじめに\\n\\nAxrossを運営している藤原です。\\n\\n**[Axross](htt...      False   \n",
       "\n",
       "   comments_count                 created_at group                    id  \\\n",
       "0               0  2021-07-23T08:21:54+09:00  None  e3a97eef46cbef67eb7a   \n",
       "\n",
       "   likes_count  private  reactions_count  \\\n",
       "0            1    False                0   \n",
       "\n",
       "                                                tags                title  \\\n",
       "0  [{'name': 'Python', 'versions': []}, {'name': ...  自然言語処理技術を活用したレシピの紹介   \n",
       "\n",
       "                  updated_at  \\\n",
       "0  2021-07-23T08:21:54+09:00   \n",
       "\n",
       "                                                 url  \\\n",
       "0  https://qiita.com/Axross_SBiv/items/e3a97eef46...   \n",
       "\n",
       "                                                user page_views_count  \\\n",
       "0  {'description': '現役エンジニアによる様々な業務で活かせる実践教材\"レシピ\"...             None   \n",
       "\n",
       "  team_membership  \n",
       "0            None  "
      ]
     },
     "execution_count": 30,
     "metadata": {},
     "output_type": "execute_result"
    }
   ],
   "source": [
    "result_df.head(1)"
   ]
  },
  {
   "cell_type": "code",
   "execution_count": 38,
   "metadata": {},
   "outputs": [
    {
     "data": {
      "text/html": [
       "<div>\n",
       "<style scoped>\n",
       "    .dataframe tbody tr th:only-of-type {\n",
       "        vertical-align: middle;\n",
       "    }\n",
       "\n",
       "    .dataframe tbody tr th {\n",
       "        vertical-align: top;\n",
       "    }\n",
       "\n",
       "    .dataframe thead th {\n",
       "        text-align: right;\n",
       "    }\n",
       "</style>\n",
       "<table border=\"1\" class=\"dataframe\">\n",
       "  <thead>\n",
       "    <tr style=\"text-align: right;\">\n",
       "      <th></th>\n",
       "      <th>rendered_body</th>\n",
       "      <th>body</th>\n",
       "      <th>coediting</th>\n",
       "      <th>comments_count</th>\n",
       "      <th>created_at</th>\n",
       "      <th>group</th>\n",
       "      <th>id</th>\n",
       "      <th>likes_count</th>\n",
       "      <th>private</th>\n",
       "      <th>reactions_count</th>\n",
       "      <th>tags</th>\n",
       "      <th>title</th>\n",
       "      <th>updated_at</th>\n",
       "      <th>url</th>\n",
       "      <th>user</th>\n",
       "      <th>page_views_count</th>\n",
       "      <th>team_membership</th>\n",
       "    </tr>\n",
       "  </thead>\n",
       "  <tbody>\n",
       "    <tr>\n",
       "      <th>0</th>\n",
       "      <td>\\n&lt;h1&gt;\\n&lt;span id=\"mypyとは\" class=\"fragment\"&gt;&lt;/s...</td>\n",
       "      <td># mypyとは\\n\\nhttps://github.com/python/mypy\\n\\n...</td>\n",
       "      <td>False</td>\n",
       "      <td>0</td>\n",
       "      <td>2021-07-22T18:56:59+09:00</td>\n",
       "      <td>None</td>\n",
       "      <td>7710e028ef33ca338a4b</td>\n",
       "      <td>0</td>\n",
       "      <td>False</td>\n",
       "      <td>0</td>\n",
       "      <td>[{'name': 'Python', 'versions': []}, {'name': ...</td>\n",
       "      <td>PythonのmypyでUnionを使うとき</td>\n",
       "      <td>2021-07-22T18:56:59+09:00</td>\n",
       "      <td>https://qiita.com/asuzuki2008/items/7710e028ef...</td>\n",
       "      <td>{'description': 'ここ数年Pythonでサーバーサイド案件がしかやってないW...</td>\n",
       "      <td>None</td>\n",
       "      <td>None</td>\n",
       "    </tr>\n",
       "  </tbody>\n",
       "</table>\n",
       "</div>"
      ],
      "text/plain": [
       "                                       rendered_body  \\\n",
       "0  \\n<h1>\\n<span id=\"mypyとは\" class=\"fragment\"></s...   \n",
       "\n",
       "                                                body  coediting  \\\n",
       "0  # mypyとは\\n\\nhttps://github.com/python/mypy\\n\\n...      False   \n",
       "\n",
       "   comments_count                 created_at group                    id  \\\n",
       "0               0  2021-07-22T18:56:59+09:00  None  7710e028ef33ca338a4b   \n",
       "\n",
       "   likes_count  private  reactions_count  \\\n",
       "0            0    False                0   \n",
       "\n",
       "                                                tags                   title  \\\n",
       "0  [{'name': 'Python', 'versions': []}, {'name': ...  PythonのmypyでUnionを使うとき   \n",
       "\n",
       "                  updated_at  \\\n",
       "0  2021-07-22T18:56:59+09:00   \n",
       "\n",
       "                                                 url  \\\n",
       "0  https://qiita.com/asuzuki2008/items/7710e028ef...   \n",
       "\n",
       "                                                user page_views_count  \\\n",
       "0  {'description': 'ここ数年Pythonでサーバーサイド案件がしかやってないW...             None   \n",
       "\n",
       "  team_membership  \n",
       "0            None  "
      ]
     },
     "execution_count": 38,
     "metadata": {},
     "output_type": "execute_result"
    }
   ],
   "source": [
    "result_df.head(1)"
   ]
  },
  {
   "cell_type": "code",
   "execution_count": 31,
   "metadata": {},
   "outputs": [],
   "source": [
    "result_df.to_csv('result/result.csv', index=False, quoting=1, line_terminator='\\r\\n')"
   ]
  },
  {
   "cell_type": "code",
   "execution_count": 1,
   "metadata": {},
   "outputs": [],
   "source": [
    "# for i in range(1, 101):\n",
    "#     print(i)"
   ]
  },
  {
   "cell_type": "code",
   "execution_count": null,
   "metadata": {},
   "outputs": [],
   "source": []
  }
 ],
 "metadata": {
  "kernelspec": {
   "display_name": "Python 3",
   "language": "python",
   "name": "python3"
  },
  "language_info": {
   "codemirror_mode": {
    "name": "ipython",
    "version": 3
   },
   "file_extension": ".py",
   "mimetype": "text/x-python",
   "name": "python",
   "nbconvert_exporter": "python",
   "pygments_lexer": "ipython3",
   "version": "3.7.6"
  }
 },
 "nbformat": 4,
 "nbformat_minor": 4
}
