{
 "cells": [
  {
   "cell_type": "markdown",
   "metadata": {},
   "source": [
    "# DBとの接続周りの実装"
   ]
  },
  {
   "cell_type": "code",
   "execution_count": 71,
   "metadata": {},
   "outputs": [],
   "source": [
    "import os\n",
    "import pandas as pd\n",
    "import mysql.connector as mydb\n",
    "from datetime import datetime as dt"
   ]
  },
  {
   "cell_type": "code",
   "execution_count": 72,
   "metadata": {},
   "outputs": [],
   "source": [
    "class MySqlConnector:\n",
    "    '''\n",
    "    MySqlとの接続、クエリ実行、データ取得をするためのクラス\n",
    "    '''\n",
    "\n",
    "    def __init__(self, hostname, user, password, database, port, dictionary=False):\n",
    "        # RDS接続情報\n",
    "        self.hostname = hostname\n",
    "        self.user = user\n",
    "        self.password = password\n",
    "        self.database = database\n",
    "        self.port = port\n",
    "\n",
    "        self.client = None\n",
    "        self.con = None\n",
    "        self.cur = None\n",
    "\n",
    "        # コネクション作成\n",
    "        self.con = mydb.connect(\n",
    "                        host=self.hostname,\n",
    "                        port=self.port,\n",
    "                        user=self.user,\n",
    "                        password=self.password,\n",
    "                        database=self.database,\n",
    "                        connection_timeout=600\n",
    "                    )\n",
    "        # コネクションが切れた時に再接続してくれるよう設定\n",
    "        self.con.ping(reconnect=True)\n",
    "        self.cur = self.con.cursor(dictionary=dictionary)\n",
    "    \n",
    "    def update_insert_data_by_df(self, df, table_name, table_columns, chunk_size=1000):\n",
    "        \"\"\"\n",
    "        UPDATE INSERTクエリを実行する\n",
    "        \"\"\"\n",
    "        for column in table_columns:\n",
    "            if column not in df.columns:\n",
    "                print(f'Warning: No column \"{column}\" in dataframe. Null is set.')\n",
    "                df[column] = None\n",
    "        columns_str = ', '.join(table_columns)\n",
    "        value_templates = self.__get_value_templates(table_columns)\n",
    "        update_value_str = ', '.join([\n",
    "            f'`{column}` = VALUES(`{column}`)' for column in table_columns\n",
    "        ])\n",
    "        update_query = f\"\"\"\n",
    "        INSERT INTO `{table_name}` ({columns_str})\n",
    "        VALUES ({value_templates})\n",
    "        ON DUPLICATE KEY UPDATE\n",
    "            {update_value_str}\n",
    "        \"\"\"\n",
    "        \n",
    "        # データサイズが大きいケースに備えてchunk単位でupdate\n",
    "        df_indexed = df.reset_index()\n",
    "        ## chunk_sizeごとにグループを作り、そのグループ単位でUPDATE INSERTを実行する\n",
    "        groups = df_indexed.index // chunk_size\n",
    "        for group, chunk_df in df_indexed[table_columns].groupby(groups):\n",
    "            update_data = [\n",
    "                self.__preprocess_update_value(row) for index, row in chunk_df.iterrows()\n",
    "            ]\n",
    "            self.cur.executemany(update_query, update_data)\n",
    "    \n",
    "    def __get_value_templates(self, columns: list):\n",
    "        \"\"\"\n",
    "        SQL Update Insert時のテンプレートを上書きする (基本は%s)\n",
    "        \n",
    "        PythonのINSERT時のテンプレート例\n",
    "        cur.executemany(\"INSERT INTO test_table VALUES (%s, %s, %s)\", records)\n",
    "        詳しくはこの資料を参照\n",
    "        https://qiita.com/valzer0/items/2f27ba98397fa7ff0d74\n",
    "        \"\"\"\n",
    "        print('mysql_connector : __get_value_templates function start')\n",
    "        templates = []\n",
    "        for column in columns:\n",
    "            template = '%s'\n",
    "            templates.append(template)\n",
    "        print('mysql_connector : __get_value_templates function done')\n",
    "        return ', '.join(templates)\n",
    "\n",
    "    def __preprocess_update_value(self, row: pd.Series):\n",
    "        \"\"\"\n",
    "        SQL Update Insert時のvalueを設定に基づいて上書きする\n",
    "        PythonのINSERT時のテンプレート例\n",
    "        cur.executemany(\"INSERT INTO test_table VALUES (%s, %s, %s)\", records)\n",
    "        詳しくはこの資料を参照\n",
    "        https://qiita.com/valzer0/items/2f27ba98397fa7ff0d74\n",
    "        \"\"\"\n",
    "        values = []\n",
    "        for column, value in row.iteritems():\n",
    "            if pd.isnull(value):\n",
    "                value = None\n",
    "            values.append(value)\n",
    "        return tuple(values)"
   ]
  },
  {
   "cell_type": "code",
   "execution_count": 73,
   "metadata": {},
   "outputs": [],
   "source": [
    "os.environ['MYSQL_HOST'] = '127.0.0.1'\n",
    "# os.environ['MYSQL_HOST'] = '172.21.0.1'\n",
    "os.environ['MYSQL_USER'] = 'root'\n",
    "os.environ['MYSQL_PASSWORD'] = 'one_more_advice'\n",
    "os.environ['MYSQL_DATABASE'] = 'one_more_advice'\n",
    "os.environ['MYSQL_PORT'] = '4306'"
   ]
  },
  {
   "cell_type": "markdown",
   "metadata": {},
   "source": []
  },
  {
   "cell_type": "markdown",
   "metadata": {},
   "source": [
    "## MSQLへの接続の実験"
   ]
  },
  {
   "cell_type": "code",
   "execution_count": 88,
   "metadata": {},
   "outputs": [],
   "source": [
    "mysql_connector = MySqlConnector(\n",
    "    hostname=os.getenv('MYSQL_HOST'),\n",
    "    user=os.getenv('MYSQL_USER'),\n",
    "    password=os.getenv('MYSQL_PASSWORD'),\n",
    "    database=os.getenv('MYSQL_DATABASE'),\n",
    "    port=os.getenv('MYSQL_PORT'),\n",
    ")"
   ]
  },
  {
   "cell_type": "code",
   "execution_count": 89,
   "metadata": {},
   "outputs": [
    {
     "data": {
      "text/plain": [
       "<__main__.MySqlConnector at 0x7f9229931f10>"
      ]
     },
     "execution_count": 89,
     "metadata": {},
     "output_type": "execute_result"
    }
   ],
   "source": [
    "mysql_connector"
   ]
  },
  {
   "cell_type": "markdown",
   "metadata": {},
   "source": [
    "## データ操作の実験"
   ]
  },
  {
   "cell_type": "code",
   "execution_count": 90,
   "metadata": {},
   "outputs": [],
   "source": [
    "qiita_item_df = pd.read_csv('data/transformed_qiita_item.csv')"
   ]
  },
  {
   "cell_type": "code",
   "execution_count": 91,
   "metadata": {},
   "outputs": [
    {
     "data": {
      "text/plain": [
       "(300, 11)"
      ]
     },
     "execution_count": 91,
     "metadata": {},
     "output_type": "execute_result"
    }
   ],
   "source": [
    "qiita_item_df.shape"
   ]
  },
  {
   "cell_type": "code",
   "execution_count": 92,
   "metadata": {},
   "outputs": [
    {
     "data": {
      "text/html": [
       "<div>\n",
       "<style scoped>\n",
       "    .dataframe tbody tr th:only-of-type {\n",
       "        vertical-align: middle;\n",
       "    }\n",
       "\n",
       "    .dataframe tbody tr th {\n",
       "        vertical-align: top;\n",
       "    }\n",
       "\n",
       "    .dataframe thead th {\n",
       "        text-align: right;\n",
       "    }\n",
       "</style>\n",
       "<table border=\"1\" class=\"dataframe\">\n",
       "  <thead>\n",
       "    <tr style=\"text-align: right;\">\n",
       "      <th></th>\n",
       "      <th>item_id</th>\n",
       "      <th>text</th>\n",
       "      <th>coediting</th>\n",
       "      <th>comments_count</th>\n",
       "      <th>likes_count</th>\n",
       "      <th>private</th>\n",
       "      <th>reactions_count</th>\n",
       "      <th>title</th>\n",
       "      <th>url</th>\n",
       "      <th>page_views_count</th>\n",
       "      <th>user_id</th>\n",
       "    </tr>\n",
       "  </thead>\n",
       "  <tbody>\n",
       "    <tr>\n",
       "      <th>0</th>\n",
       "      <td>d52b5135062c58bf221c</td>\n",
       "      <td>AWS AppSync と kintone REST API を接続し、kintoneのレコ...</td>\n",
       "      <td>False</td>\n",
       "      <td>0</td>\n",
       "      <td>0</td>\n",
       "      <td>False</td>\n",
       "      <td>0</td>\n",
       "      <td>AWS AppSync and kintone REST API Sample</td>\n",
       "      <td>https://qiita.com/sy250f/items/d52b5135062c58b...</td>\n",
       "      <td>NaN</td>\n",
       "      <td>hoge</td>\n",
       "    </tr>\n",
       "  </tbody>\n",
       "</table>\n",
       "</div>"
      ],
      "text/plain": [
       "                item_id                                               text  \\\n",
       "0  d52b5135062c58bf221c  AWS AppSync と kintone REST API を接続し、kintoneのレコ...   \n",
       "\n",
       "   coediting  comments_count  likes_count  private  reactions_count  \\\n",
       "0      False               0            0    False                0   \n",
       "\n",
       "                                     title  \\\n",
       "0  AWS AppSync and kintone REST API Sample   \n",
       "\n",
       "                                                 url  page_views_count user_id  \n",
       "0  https://qiita.com/sy250f/items/d52b5135062c58b...               NaN    hoge  "
      ]
     },
     "execution_count": 92,
     "metadata": {},
     "output_type": "execute_result"
    }
   ],
   "source": [
    "qiita_item_df.head(1)"
   ]
  },
  {
   "cell_type": "code",
   "execution_count": 93,
   "metadata": {},
   "outputs": [],
   "source": [
    "table_name = 'qiita_item'\n",
    "table_columns = ['item_id', 'text', 'coediting', 'comments_count', \n",
    "    'likes_count', 'private', 'reactions_count', \n",
    "    'title', 'url', 'page_views_count', 'user_id'\n",
    "]"
   ]
  },
  {
   "cell_type": "code",
   "execution_count": 94,
   "metadata": {},
   "outputs": [
    {
     "data": {
      "text/plain": [
       "Index(['item_id', 'text', 'coediting', 'comments_count', 'likes_count',\n",
       "       'private', 'reactions_count', 'title', 'url', 'page_views_count',\n",
       "       'user_id'],\n",
       "      dtype='object')"
      ]
     },
     "execution_count": 94,
     "metadata": {},
     "output_type": "execute_result"
    }
   ],
   "source": [
    "qiita_item_df.columns"
   ]
  },
  {
   "cell_type": "code",
   "execution_count": 95,
   "metadata": {},
   "outputs": [
    {
     "name": "stdout",
     "output_type": "stream",
     "text": [
      "mysql_connector : __get_value_templates function start\n",
      "mysql_connector : __get_value_templates function done\n"
     ]
    }
   ],
   "source": [
    "mysql_connector.update_insert_data_by_df(qiita_item_df, table_name, table_columns)"
   ]
  },
  {
   "cell_type": "code",
   "execution_count": 96,
   "metadata": {},
   "outputs": [],
   "source": [
    "mysql_connector.con.commit()\n",
    "mysql_connector.cur.close()\n",
    "mysql_connector.con.close()"
   ]
  },
  {
   "cell_type": "code",
   "execution_count": null,
   "metadata": {},
   "outputs": [],
   "source": []
  }
 ],
 "metadata": {
  "kernelspec": {
   "display_name": "Python 3",
   "language": "python",
   "name": "python3"
  },
  "language_info": {
   "codemirror_mode": {
    "name": "ipython",
    "version": 3
   },
   "file_extension": ".py",
   "mimetype": "text/x-python",
   "name": "python",
   "nbconvert_exporter": "python",
   "pygments_lexer": "ipython3",
   "version": "3.7.6"
  }
 },
 "nbformat": 4,
 "nbformat_minor": 4
}
