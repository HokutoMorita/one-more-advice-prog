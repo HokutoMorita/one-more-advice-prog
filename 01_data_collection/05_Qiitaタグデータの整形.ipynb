{
 "cells": [
  {
   "cell_type": "markdown",
   "metadata": {},
   "source": [
    "# Qiitaタグデータの整形"
   ]
  },
  {
   "cell_type": "code",
   "execution_count": 1,
   "metadata": {},
   "outputs": [],
   "source": [
    "import os\n",
    "import json\n",
    "import ast\n",
    "import pandas as pd"
   ]
  },
  {
   "cell_type": "markdown",
   "metadata": {},
   "source": [
    "## データ取得"
   ]
  },
  {
   "cell_type": "code",
   "execution_count": 2,
   "metadata": {},
   "outputs": [],
   "source": [
    "qiita_item_df = pd.read_csv('data/extracted_qiita_item.csv')"
   ]
  },
  {
   "cell_type": "code",
   "execution_count": 3,
   "metadata": {},
   "outputs": [
    {
     "data": {
      "text/plain": [
       "(300, 17)"
      ]
     },
     "execution_count": 3,
     "metadata": {},
     "output_type": "execute_result"
    }
   ],
   "source": [
    "qiita_item_df.shape"
   ]
  },
  {
   "cell_type": "code",
   "execution_count": 4,
   "metadata": {},
   "outputs": [
    {
     "data": {
      "text/html": [
       "<div>\n",
       "<style scoped>\n",
       "    .dataframe tbody tr th:only-of-type {\n",
       "        vertical-align: middle;\n",
       "    }\n",
       "\n",
       "    .dataframe tbody tr th {\n",
       "        vertical-align: top;\n",
       "    }\n",
       "\n",
       "    .dataframe thead th {\n",
       "        text-align: right;\n",
       "    }\n",
       "</style>\n",
       "<table border=\"1\" class=\"dataframe\">\n",
       "  <thead>\n",
       "    <tr style=\"text-align: right;\">\n",
       "      <th></th>\n",
       "      <th>body</th>\n",
       "      <th>coediting</th>\n",
       "      <th>comments_count</th>\n",
       "      <th>created_at</th>\n",
       "      <th>group</th>\n",
       "      <th>id</th>\n",
       "      <th>likes_count</th>\n",
       "      <th>page_views_count</th>\n",
       "      <th>private</th>\n",
       "      <th>reactions_count</th>\n",
       "      <th>rendered_body</th>\n",
       "      <th>tags</th>\n",
       "      <th>team_membership</th>\n",
       "      <th>title</th>\n",
       "      <th>updated_at</th>\n",
       "      <th>url</th>\n",
       "      <th>user</th>\n",
       "    </tr>\n",
       "  </thead>\n",
       "  <tbody>\n",
       "    <tr>\n",
       "      <th>0</th>\n",
       "      <td>NCMB（ニフクラ mobile backend）のSwift SDKをインストールする方法...</td>\n",
       "      <td>False</td>\n",
       "      <td>0</td>\n",
       "      <td>2021-08-07T11:27:55+09:00</td>\n",
       "      <td>NaN</td>\n",
       "      <td>c95026861f160449a83b</td>\n",
       "      <td>0</td>\n",
       "      <td>NaN</td>\n",
       "      <td>False</td>\n",
       "      <td>0</td>\n",
       "      <td>&lt;p&gt;NCMB（ニフクラ mobile backend）のSwift SDKをインストールす...</td>\n",
       "      <td>[{'name': 'NCMB', 'versions': []}, {'name': 'S...</td>\n",
       "      <td>NaN</td>\n",
       "      <td>NCMBのSwift SDKをSwift Packagesでインストールする</td>\n",
       "      <td>2021-08-07T11:27:55+09:00</td>\n",
       "      <td>https://qiita.com/goofmint/items/c95026861f160...</td>\n",
       "      <td>{'description': 'MOONGIFT CEO. ニフクラ mobile bac...</td>\n",
       "    </tr>\n",
       "  </tbody>\n",
       "</table>\n",
       "</div>"
      ],
      "text/plain": [
       "                                                body  coediting  \\\n",
       "0  NCMB（ニフクラ mobile backend）のSwift SDKをインストールする方法...      False   \n",
       "\n",
       "   comments_count                 created_at  group                    id  \\\n",
       "0               0  2021-08-07T11:27:55+09:00    NaN  c95026861f160449a83b   \n",
       "\n",
       "   likes_count  page_views_count  private  reactions_count  \\\n",
       "0            0               NaN    False                0   \n",
       "\n",
       "                                       rendered_body  \\\n",
       "0  <p>NCMB（ニフクラ mobile backend）のSwift SDKをインストールす...   \n",
       "\n",
       "                                                tags  team_membership  \\\n",
       "0  [{'name': 'NCMB', 'versions': []}, {'name': 'S...              NaN   \n",
       "\n",
       "                                    title                 updated_at  \\\n",
       "0  NCMBのSwift SDKをSwift Packagesでインストールする  2021-08-07T11:27:55+09:00   \n",
       "\n",
       "                                                 url  \\\n",
       "0  https://qiita.com/goofmint/items/c95026861f160...   \n",
       "\n",
       "                                                user  \n",
       "0  {'description': 'MOONGIFT CEO. ニフクラ mobile bac...  "
      ]
     },
     "execution_count": 4,
     "metadata": {},
     "output_type": "execute_result"
    }
   ],
   "source": [
    "qiita_item_df.head(1)"
   ]
  },
  {
   "cell_type": "code",
   "execution_count": 18,
   "metadata": {},
   "outputs": [],
   "source": [
    "def create_qiita_item_to_tag_relation_df(qiita_item_df):\n",
    "    \"\"\"\n",
    "    qiita_item_dfからqiita_item_to_tag_relation_dfを生成する\n",
    "    \"\"\"\n",
    "    qiita_item_to_tag_relation_list = []\n",
    "    for index, row in qiita_item_df.iterrows():\n",
    "        qiita_item_series = qiita_item_df.iloc[index]\n",
    "        qiita_item_id = qiita_item_series['id']\n",
    "        qiita_item_tags_str = qiita_item_series['tags']\n",
    "        qiita_item_tags = ast.literal_eval(qiita_item_tags_str)\n",
    "        \n",
    "        for qiita_item_tag_dict in qiita_item_tags:\n",
    "            qiita_item_to_tag_relation_dict = {}\n",
    "            qiita_item_to_tag_relation_dict['item_id'] = qiita_item_id\n",
    "            qiita_item_to_tag_relation_dict['tag_name'] = qiita_item_tag_dict['name']\n",
    "            qiita_item_to_tag_relation_list.append(qiita_item_to_tag_relation_dict)\n",
    "    return pd.DataFrame.from_records(qiita_item_to_tag_relation_list)"
   ]
  },
  {
   "cell_type": "code",
   "execution_count": 37,
   "metadata": {},
   "outputs": [],
   "source": [
    "def create_qiita_tag_df(qiita_item_df):\n",
    "    \"\"\"\n",
    "    qiita_item_dfからqiita_tag_dfを生成する\n",
    "    \"\"\"\n",
    "    qiita_tag_list = []\n",
    "    for index, row in qiita_item_df.iterrows():\n",
    "        qiita_item_series = qiita_item_df.iloc[index]\n",
    "        qiita_item_tags_str = qiita_item_series['tags']\n",
    "        qiita_item_tags = ast.literal_eval(qiita_item_tags_str)\n",
    "        \n",
    "        for qiita_item_tag in qiita_item_tags:\n",
    "            qiita_tag_list.append(qiita_item_tag['name'])\n",
    "    # タグデータはマスターとして扱うため重複を削除したいので、set型に変換する\n",
    "    qiita_tag_set = set(qiita_tag_list)\n",
    "    return pd.DataFrame(qiita_tag_set, columns =['tag_name'])"
   ]
  },
  {
   "cell_type": "markdown",
   "metadata": {},
   "source": [
    "## 実行"
   ]
  },
  {
   "cell_type": "markdown",
   "metadata": {},
   "source": [
    "### 投稿データとタグデータの関連データ"
   ]
  },
  {
   "cell_type": "code",
   "execution_count": 19,
   "metadata": {},
   "outputs": [],
   "source": [
    "qiita_item_to_tag_relation_df = create_qiita_item_to_tag_relation_df(qiita_item_df)"
   ]
  },
  {
   "cell_type": "code",
   "execution_count": 20,
   "metadata": {},
   "outputs": [
    {
     "data": {
      "text/plain": [
       "(855, 2)"
      ]
     },
     "execution_count": 20,
     "metadata": {},
     "output_type": "execute_result"
    }
   ],
   "source": [
    "qiita_item_to_tag_relation_df.shape"
   ]
  },
  {
   "cell_type": "code",
   "execution_count": 21,
   "metadata": {},
   "outputs": [
    {
     "data": {
      "text/html": [
       "<div>\n",
       "<style scoped>\n",
       "    .dataframe tbody tr th:only-of-type {\n",
       "        vertical-align: middle;\n",
       "    }\n",
       "\n",
       "    .dataframe tbody tr th {\n",
       "        vertical-align: top;\n",
       "    }\n",
       "\n",
       "    .dataframe thead th {\n",
       "        text-align: right;\n",
       "    }\n",
       "</style>\n",
       "<table border=\"1\" class=\"dataframe\">\n",
       "  <thead>\n",
       "    <tr style=\"text-align: right;\">\n",
       "      <th></th>\n",
       "      <th>item_id</th>\n",
       "      <th>tag_name</th>\n",
       "    </tr>\n",
       "  </thead>\n",
       "  <tbody>\n",
       "    <tr>\n",
       "      <th>0</th>\n",
       "      <td>c95026861f160449a83b</td>\n",
       "      <td>NCMB</td>\n",
       "    </tr>\n",
       "  </tbody>\n",
       "</table>\n",
       "</div>"
      ],
      "text/plain": [
       "                item_id tag_name\n",
       "0  c95026861f160449a83b     NCMB"
      ]
     },
     "execution_count": 21,
     "metadata": {},
     "output_type": "execute_result"
    }
   ],
   "source": [
    "qiita_item_to_tag_relation_df.head(1)"
   ]
  },
  {
   "cell_type": "code",
   "execution_count": 22,
   "metadata": {},
   "outputs": [],
   "source": [
    "qiita_item_to_tag_relation_df.to_csv('result/qiita_item_to_tag_relation.csv', index=False, quoting=1, line_terminator='\\r\\n')"
   ]
  },
  {
   "cell_type": "markdown",
   "metadata": {},
   "source": [
    "### タグデータ"
   ]
  },
  {
   "cell_type": "code",
   "execution_count": 38,
   "metadata": {},
   "outputs": [],
   "source": [
    "qiita_tag_df = create_qiita_tag_df(qiita_item_df)"
   ]
  },
  {
   "cell_type": "code",
   "execution_count": 39,
   "metadata": {},
   "outputs": [
    {
     "data": {
      "text/plain": [
       "(489, 1)"
      ]
     },
     "execution_count": 39,
     "metadata": {},
     "output_type": "execute_result"
    }
   ],
   "source": [
    "qiita_tag_df.shape"
   ]
  },
  {
   "cell_type": "code",
   "execution_count": 40,
   "metadata": {},
   "outputs": [
    {
     "data": {
      "text/html": [
       "<div>\n",
       "<style scoped>\n",
       "    .dataframe tbody tr th:only-of-type {\n",
       "        vertical-align: middle;\n",
       "    }\n",
       "\n",
       "    .dataframe tbody tr th {\n",
       "        vertical-align: top;\n",
       "    }\n",
       "\n",
       "    .dataframe thead th {\n",
       "        text-align: right;\n",
       "    }\n",
       "</style>\n",
       "<table border=\"1\" class=\"dataframe\">\n",
       "  <thead>\n",
       "    <tr style=\"text-align: right;\">\n",
       "      <th></th>\n",
       "      <th>tag_name</th>\n",
       "    </tr>\n",
       "  </thead>\n",
       "  <tbody>\n",
       "    <tr>\n",
       "      <th>0</th>\n",
       "      <td>インフラ</td>\n",
       "    </tr>\n",
       "  </tbody>\n",
       "</table>\n",
       "</div>"
      ],
      "text/plain": [
       "  tag_name\n",
       "0     インフラ"
      ]
     },
     "execution_count": 40,
     "metadata": {},
     "output_type": "execute_result"
    }
   ],
   "source": [
    "qiita_tag_df.head(1)"
   ]
  },
  {
   "cell_type": "code",
   "execution_count": 41,
   "metadata": {},
   "outputs": [],
   "source": [
    "qiita_tag_df.to_csv('result/qiita_tag.csv', index=False, quoting=1, line_terminator='\\r\\n')"
   ]
  },
  {
   "cell_type": "code",
   "execution_count": null,
   "metadata": {},
   "outputs": [],
   "source": []
  },
  {
   "cell_type": "code",
   "execution_count": null,
   "metadata": {},
   "outputs": [],
   "source": []
  },
  {
   "cell_type": "markdown",
   "metadata": {},
   "source": [
    "## 実験"
   ]
  },
  {
   "cell_type": "markdown",
   "metadata": {},
   "source": [
    "### タグリストが取得できることの実験"
   ]
  },
  {
   "cell_type": "code",
   "execution_count": 5,
   "metadata": {},
   "outputs": [],
   "source": [
    "tag_list_str = qiita_item_df.iloc[0, 11]"
   ]
  },
  {
   "cell_type": "code",
   "execution_count": 6,
   "metadata": {},
   "outputs": [
    {
     "data": {
      "text/plain": [
       "\"[{'name': 'NCMB', 'versions': []}, {'name': 'Swift', 'versions': []}, {'name': 'SwiftUI', 'versions': []}]\""
      ]
     },
     "execution_count": 6,
     "metadata": {},
     "output_type": "execute_result"
    }
   ],
   "source": [
    "tag_list_str"
   ]
  },
  {
   "cell_type": "code",
   "execution_count": 7,
   "metadata": {},
   "outputs": [],
   "source": [
    "tag_list = ast.literal_eval(tag_list_str)"
   ]
  },
  {
   "cell_type": "code",
   "execution_count": 8,
   "metadata": {},
   "outputs": [
    {
     "data": {
      "text/plain": [
       "[{'name': 'NCMB', 'versions': []},\n",
       " {'name': 'Swift', 'versions': []},\n",
       " {'name': 'SwiftUI', 'versions': []}]"
      ]
     },
     "execution_count": 8,
     "metadata": {},
     "output_type": "execute_result"
    }
   ],
   "source": [
    "tag_list"
   ]
  },
  {
   "cell_type": "code",
   "execution_count": 9,
   "metadata": {},
   "outputs": [
    {
     "data": {
      "text/plain": [
       "list"
      ]
     },
     "execution_count": 9,
     "metadata": {},
     "output_type": "execute_result"
    }
   ],
   "source": [
    "type(tag_list)"
   ]
  },
  {
   "cell_type": "markdown",
   "metadata": {},
   "source": [
    "### データフレームの操作実験"
   ]
  },
  {
   "cell_type": "code",
   "execution_count": 13,
   "metadata": {},
   "outputs": [],
   "source": [
    "qiita_item_series = qiita_item_df.iloc[0]"
   ]
  },
  {
   "cell_type": "code",
   "execution_count": 14,
   "metadata": {},
   "outputs": [
    {
     "data": {
      "text/plain": [
       "pandas.core.series.Series"
      ]
     },
     "execution_count": 14,
     "metadata": {},
     "output_type": "execute_result"
    }
   ],
   "source": [
    "type(qiita_item_series)"
   ]
  },
  {
   "cell_type": "code",
   "execution_count": 15,
   "metadata": {},
   "outputs": [
    {
     "data": {
      "text/plain": [
       "body                NCMB（ニフクラ mobile backend）のSwift SDKをインストールする方法...\n",
       "coediting                                                       False\n",
       "comments_count                                                      0\n",
       "created_at                                  2021-08-07T11:27:55+09:00\n",
       "group                                                             NaN\n",
       "id                                               c95026861f160449a83b\n",
       "likes_count                                                         0\n",
       "page_views_count                                                  NaN\n",
       "private                                                         False\n",
       "reactions_count                                                     0\n",
       "rendered_body       <p>NCMB（ニフクラ mobile backend）のSwift SDKをインストールす...\n",
       "tags                [{'name': 'NCMB', 'versions': []}, {'name': 'S...\n",
       "team_membership                                                   NaN\n",
       "title                          NCMBのSwift SDKをSwift Packagesでインストールする\n",
       "updated_at                                  2021-08-07T11:27:55+09:00\n",
       "url                 https://qiita.com/goofmint/items/c95026861f160...\n",
       "user                {'description': 'MOONGIFT CEO. ニフクラ mobile bac...\n",
       "Name: 0, dtype: object"
      ]
     },
     "execution_count": 15,
     "metadata": {},
     "output_type": "execute_result"
    }
   ],
   "source": [
    "qiita_item_series"
   ]
  },
  {
   "cell_type": "code",
   "execution_count": 16,
   "metadata": {},
   "outputs": [
    {
     "data": {
      "text/plain": [
       "'c95026861f160449a83b'"
      ]
     },
     "execution_count": 16,
     "metadata": {},
     "output_type": "execute_result"
    }
   ],
   "source": [
    "qiita_item_series['id']"
   ]
  },
  {
   "cell_type": "code",
   "execution_count": 17,
   "metadata": {},
   "outputs": [
    {
     "data": {
      "text/plain": [
       "\"[{'name': 'NCMB', 'versions': []}, {'name': 'Swift', 'versions': []}, {'name': 'SwiftUI', 'versions': []}]\""
      ]
     },
     "execution_count": 17,
     "metadata": {},
     "output_type": "execute_result"
    }
   ],
   "source": [
    "qiita_item_series['tags']"
   ]
  },
  {
   "cell_type": "code",
   "execution_count": null,
   "metadata": {},
   "outputs": [],
   "source": []
  },
  {
   "cell_type": "code",
   "execution_count": null,
   "metadata": {},
   "outputs": [],
   "source": []
  },
  {
   "cell_type": "code",
   "execution_count": null,
   "metadata": {},
   "outputs": [],
   "source": []
  }
 ],
 "metadata": {
  "kernelspec": {
   "display_name": "Python 3",
   "language": "python",
   "name": "python3"
  },
  "language_info": {
   "codemirror_mode": {
    "name": "ipython",
    "version": 3
   },
   "file_extension": ".py",
   "mimetype": "text/x-python",
   "name": "python",
   "nbconvert_exporter": "python",
   "pygments_lexer": "ipython3",
   "version": "3.7.6"
  }
 },
 "nbformat": 4,
 "nbformat_minor": 4
}
