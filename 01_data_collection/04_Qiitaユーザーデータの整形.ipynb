{
 "cells": [
  {
   "cell_type": "markdown",
   "metadata": {},
   "source": [
    "# Qiitaユーザーデータの整形"
   ]
  },
  {
   "cell_type": "code",
   "execution_count": 18,
   "metadata": {},
   "outputs": [],
   "source": [
    "import os\n",
    "import json\n",
    "import ast\n",
    "import pandas as pd"
   ]
  },
  {
   "cell_type": "markdown",
   "metadata": {},
   "source": [
    "## データ取得"
   ]
  },
  {
   "cell_type": "code",
   "execution_count": 6,
   "metadata": {},
   "outputs": [],
   "source": [
    "qiita_item_df = pd.read_csv('data/extracted_qiita_item.csv')"
   ]
  },
  {
   "cell_type": "code",
   "execution_count": 7,
   "metadata": {},
   "outputs": [
    {
     "data": {
      "text/plain": [
       "(300, 17)"
      ]
     },
     "execution_count": 7,
     "metadata": {},
     "output_type": "execute_result"
    }
   ],
   "source": [
    "qiita_item_df.shape"
   ]
  },
  {
   "cell_type": "code",
   "execution_count": 8,
   "metadata": {},
   "outputs": [
    {
     "data": {
      "text/html": [
       "<div>\n",
       "<style scoped>\n",
       "    .dataframe tbody tr th:only-of-type {\n",
       "        vertical-align: middle;\n",
       "    }\n",
       "\n",
       "    .dataframe tbody tr th {\n",
       "        vertical-align: top;\n",
       "    }\n",
       "\n",
       "    .dataframe thead th {\n",
       "        text-align: right;\n",
       "    }\n",
       "</style>\n",
       "<table border=\"1\" class=\"dataframe\">\n",
       "  <thead>\n",
       "    <tr style=\"text-align: right;\">\n",
       "      <th></th>\n",
       "      <th>body</th>\n",
       "      <th>coediting</th>\n",
       "      <th>comments_count</th>\n",
       "      <th>created_at</th>\n",
       "      <th>group</th>\n",
       "      <th>id</th>\n",
       "      <th>likes_count</th>\n",
       "      <th>page_views_count</th>\n",
       "      <th>private</th>\n",
       "      <th>reactions_count</th>\n",
       "      <th>rendered_body</th>\n",
       "      <th>tags</th>\n",
       "      <th>team_membership</th>\n",
       "      <th>title</th>\n",
       "      <th>updated_at</th>\n",
       "      <th>url</th>\n",
       "      <th>user</th>\n",
       "    </tr>\n",
       "  </thead>\n",
       "  <tbody>\n",
       "    <tr>\n",
       "      <th>0</th>\n",
       "      <td>NCMB（ニフクラ mobile backend）のSwift SDKをインストールする方法...</td>\n",
       "      <td>False</td>\n",
       "      <td>0</td>\n",
       "      <td>2021-08-07T11:27:55+09:00</td>\n",
       "      <td>NaN</td>\n",
       "      <td>c95026861f160449a83b</td>\n",
       "      <td>0</td>\n",
       "      <td>NaN</td>\n",
       "      <td>False</td>\n",
       "      <td>0</td>\n",
       "      <td>&lt;p&gt;NCMB（ニフクラ mobile backend）のSwift SDKをインストールす...</td>\n",
       "      <td>[{'name': 'NCMB', 'versions': []}, {'name': 'S...</td>\n",
       "      <td>NaN</td>\n",
       "      <td>NCMBのSwift SDKをSwift Packagesでインストールする</td>\n",
       "      <td>2021-08-07T11:27:55+09:00</td>\n",
       "      <td>https://qiita.com/goofmint/items/c95026861f160...</td>\n",
       "      <td>{'description': 'MOONGIFT CEO. ニフクラ mobile bac...</td>\n",
       "    </tr>\n",
       "  </tbody>\n",
       "</table>\n",
       "</div>"
      ],
      "text/plain": [
       "                                                body  coediting  \\\n",
       "0  NCMB（ニフクラ mobile backend）のSwift SDKをインストールする方法...      False   \n",
       "\n",
       "   comments_count                 created_at  group                    id  \\\n",
       "0               0  2021-08-07T11:27:55+09:00    NaN  c95026861f160449a83b   \n",
       "\n",
       "   likes_count  page_views_count  private  reactions_count  \\\n",
       "0            0               NaN    False                0   \n",
       "\n",
       "                                       rendered_body  \\\n",
       "0  <p>NCMB（ニフクラ mobile backend）のSwift SDKをインストールす...   \n",
       "\n",
       "                                                tags  team_membership  \\\n",
       "0  [{'name': 'NCMB', 'versions': []}, {'name': 'S...              NaN   \n",
       "\n",
       "                                    title                 updated_at  \\\n",
       "0  NCMBのSwift SDKをSwift Packagesでインストールする  2021-08-07T11:27:55+09:00   \n",
       "\n",
       "                                                 url  \\\n",
       "0  https://qiita.com/goofmint/items/c95026861f160...   \n",
       "\n",
       "                                                user  \n",
       "0  {'description': 'MOONGIFT CEO. ニフクラ mobile bac...  "
      ]
     },
     "execution_count": 8,
     "metadata": {},
     "output_type": "execute_result"
    }
   ],
   "source": [
    "qiita_item_df.head(1)"
   ]
  },
  {
   "cell_type": "markdown",
   "metadata": {},
   "source": [
    "## 関数定義"
   ]
  },
  {
   "cell_type": "code",
   "execution_count": 22,
   "metadata": {},
   "outputs": [],
   "source": [
    "def extract_user_id(user_dict_str):\n",
    "    \"\"\"\n",
    "    QiitaユーザーIDを抽出する\n",
    "    辞書型の文字列を辞書型に変換する\n",
    "    辞書からQiitaユーザーIDを取得する\n",
    "    \"\"\"\n",
    "    user_dict = ast.literal_eval(user_dict_str)\n",
    "    return user_dict['id']"
   ]
  },
  {
   "cell_type": "code",
   "execution_count": 33,
   "metadata": {},
   "outputs": [],
   "source": [
    "def create_qiita_user_df(qiita_item_df):\n",
    "    \"\"\"\n",
    "    qiita_item_dfからqiita_user_dfを生成する\n",
    "    \"\"\"\n",
    "    qiita_user_str_list = qiita_item_df['user'].to_list()\n",
    "    qiita_user_dict_list = []\n",
    "    for qiita_user_str in qiita_user_str_list:\n",
    "        qiita_user_dict = ast.literal_eval(qiita_user_str)\n",
    "        qiita_user_dict_list.append(qiita_user_dict)\n",
    "    return pd.DataFrame.from_records(qiita_user_dict_list)"
   ]
  },
  {
   "cell_type": "markdown",
   "metadata": {},
   "source": [
    "## 実行"
   ]
  },
  {
   "cell_type": "markdown",
   "metadata": {},
   "source": [
    "### ユーザーID取得"
   ]
  },
  {
   "cell_type": "code",
   "execution_count": 24,
   "metadata": {},
   "outputs": [],
   "source": [
    "qiita_item_df['user_id'] = qiita_item_df['user'].map(extract_user_id)"
   ]
  },
  {
   "cell_type": "code",
   "execution_count": 25,
   "metadata": {},
   "outputs": [],
   "source": [
    "qiita_item_df.to_csv('result/qiita_item_user_id.csv', index=False, quoting=1, line_terminator='\\r\\n')"
   ]
  },
  {
   "cell_type": "markdown",
   "metadata": {},
   "source": [
    "### ユーザーデータ取得"
   ]
  },
  {
   "cell_type": "code",
   "execution_count": 34,
   "metadata": {},
   "outputs": [],
   "source": [
    "qiita_user_df = create_qiita_user_df(qiita_item_df)"
   ]
  },
  {
   "cell_type": "code",
   "execution_count": 35,
   "metadata": {},
   "outputs": [
    {
     "data": {
      "text/plain": [
       "(300, 16)"
      ]
     },
     "execution_count": 35,
     "metadata": {},
     "output_type": "execute_result"
    }
   ],
   "source": [
    "qiita_user_df.shape"
   ]
  },
  {
   "cell_type": "code",
   "execution_count": 36,
   "metadata": {},
   "outputs": [
    {
     "data": {
      "text/html": [
       "<div>\n",
       "<style scoped>\n",
       "    .dataframe tbody tr th:only-of-type {\n",
       "        vertical-align: middle;\n",
       "    }\n",
       "\n",
       "    .dataframe tbody tr th {\n",
       "        vertical-align: top;\n",
       "    }\n",
       "\n",
       "    .dataframe thead th {\n",
       "        text-align: right;\n",
       "    }\n",
       "</style>\n",
       "<table border=\"1\" class=\"dataframe\">\n",
       "  <thead>\n",
       "    <tr style=\"text-align: right;\">\n",
       "      <th></th>\n",
       "      <th>description</th>\n",
       "      <th>facebook_id</th>\n",
       "      <th>followees_count</th>\n",
       "      <th>followers_count</th>\n",
       "      <th>github_login_name</th>\n",
       "      <th>id</th>\n",
       "      <th>items_count</th>\n",
       "      <th>linkedin_id</th>\n",
       "      <th>location</th>\n",
       "      <th>name</th>\n",
       "      <th>organization</th>\n",
       "      <th>permanent_id</th>\n",
       "      <th>profile_image_url</th>\n",
       "      <th>team_only</th>\n",
       "      <th>twitter_screen_name</th>\n",
       "      <th>website_url</th>\n",
       "    </tr>\n",
       "  </thead>\n",
       "  <tbody>\n",
       "    <tr>\n",
       "      <th>0</th>\n",
       "      <td>MOONGIFT CEO. ニフクラ mobile backend &amp; FRONT-END....</td>\n",
       "      <td>goofmint</td>\n",
       "      <td>1</td>\n",
       "      <td>43</td>\n",
       "      <td>None</td>\n",
       "      <td>goofmint</td>\n",
       "      <td>107</td>\n",
       "      <td>goofmint</td>\n",
       "      <td>Yokohama, Japan</td>\n",
       "      <td>中津川 篤司</td>\n",
       "      <td>MOONGIFT</td>\n",
       "      <td>197026</td>\n",
       "      <td>https://qiita-image-store.s3.amazonaws.com/0/1...</td>\n",
       "      <td>False</td>\n",
       "      <td>goofmint</td>\n",
       "      <td>https://www.moongift.jp/</td>\n",
       "    </tr>\n",
       "  </tbody>\n",
       "</table>\n",
       "</div>"
      ],
      "text/plain": [
       "                                         description facebook_id  \\\n",
       "0  MOONGIFT CEO. ニフクラ mobile backend & FRONT-END....    goofmint   \n",
       "\n",
       "   followees_count  followers_count github_login_name        id  items_count  \\\n",
       "0                1               43              None  goofmint          107   \n",
       "\n",
       "  linkedin_id         location    name organization  permanent_id  \\\n",
       "0    goofmint  Yokohama, Japan  中津川 篤司     MOONGIFT        197026   \n",
       "\n",
       "                                   profile_image_url  team_only  \\\n",
       "0  https://qiita-image-store.s3.amazonaws.com/0/1...      False   \n",
       "\n",
       "  twitter_screen_name               website_url  \n",
       "0            goofmint  https://www.moongift.jp/  "
      ]
     },
     "execution_count": 36,
     "metadata": {},
     "output_type": "execute_result"
    }
   ],
   "source": [
    "qiita_user_df.head(1)"
   ]
  },
  {
   "cell_type": "code",
   "execution_count": 37,
   "metadata": {},
   "outputs": [],
   "source": [
    "qiita_user_df.to_csv('result/qiita_user.csv', index=False, quoting=1, line_terminator='\\r\\n')"
   ]
  },
  {
   "cell_type": "code",
   "execution_count": 38,
   "metadata": {},
   "outputs": [
    {
     "data": {
      "text/plain": [
       "Index(['description', 'facebook_id', 'followees_count', 'followers_count',\n",
       "       'github_login_name', 'id', 'items_count', 'linkedin_id', 'location',\n",
       "       'name', 'organization', 'permanent_id', 'profile_image_url',\n",
       "       'team_only', 'twitter_screen_name', 'website_url'],\n",
       "      dtype='object')"
      ]
     },
     "execution_count": 38,
     "metadata": {},
     "output_type": "execute_result"
    }
   ],
   "source": [
    "qiita_user_df.columns"
   ]
  },
  {
   "cell_type": "markdown",
   "metadata": {},
   "source": [
    "## 実験"
   ]
  },
  {
   "cell_type": "markdown",
   "metadata": {},
   "source": [
    "### ユーザーID取得実験"
   ]
  },
  {
   "cell_type": "code",
   "execution_count": 13,
   "metadata": {},
   "outputs": [],
   "source": [
    "user_dict_str = qiita_item_df.iloc[0, 16]"
   ]
  },
  {
   "cell_type": "code",
   "execution_count": 14,
   "metadata": {},
   "outputs": [
    {
     "data": {
      "text/plain": [
       "\"{'description': 'MOONGIFT CEO. ニフクラ mobile backend & FRONT-END.AI エバンジェリスト', 'facebook_id': 'goofmint', 'followees_count': 1, 'followers_count': 43, 'github_login_name': None, 'id': 'goofmint', 'items_count': 107, 'linkedin_id': 'goofmint', 'location': 'Yokohama, Japan', 'name': '中津川 篤司', 'organization': 'MOONGIFT', 'permanent_id': 197026, 'profile_image_url': 'https://qiita-image-store.s3.amazonaws.com/0/197026/profile-images/1514355124', 'team_only': False, 'twitter_screen_name': 'goofmint', 'website_url': 'https://www.moongift.jp/'}\""
      ]
     },
     "execution_count": 14,
     "metadata": {},
     "output_type": "execute_result"
    }
   ],
   "source": [
    "user_dict_str"
   ]
  },
  {
   "cell_type": "code",
   "execution_count": 15,
   "metadata": {},
   "outputs": [
    {
     "data": {
      "text/plain": [
       "str"
      ]
     },
     "execution_count": 15,
     "metadata": {},
     "output_type": "execute_result"
    }
   ],
   "source": [
    "type(user_dict_str)"
   ]
  },
  {
   "cell_type": "code",
   "execution_count": 19,
   "metadata": {},
   "outputs": [],
   "source": [
    "user_dict = ast.literal_eval(user_dict_str)"
   ]
  },
  {
   "cell_type": "code",
   "execution_count": 20,
   "metadata": {},
   "outputs": [
    {
     "data": {
      "text/plain": [
       "{'description': 'MOONGIFT CEO. ニフクラ mobile backend & FRONT-END.AI エバンジェリスト',\n",
       " 'facebook_id': 'goofmint',\n",
       " 'followees_count': 1,\n",
       " 'followers_count': 43,\n",
       " 'github_login_name': None,\n",
       " 'id': 'goofmint',\n",
       " 'items_count': 107,\n",
       " 'linkedin_id': 'goofmint',\n",
       " 'location': 'Yokohama, Japan',\n",
       " 'name': '中津川 篤司',\n",
       " 'organization': 'MOONGIFT',\n",
       " 'permanent_id': 197026,\n",
       " 'profile_image_url': 'https://qiita-image-store.s3.amazonaws.com/0/197026/profile-images/1514355124',\n",
       " 'team_only': False,\n",
       " 'twitter_screen_name': 'goofmint',\n",
       " 'website_url': 'https://www.moongift.jp/'}"
      ]
     },
     "execution_count": 20,
     "metadata": {},
     "output_type": "execute_result"
    }
   ],
   "source": [
    "user_dict"
   ]
  },
  {
   "cell_type": "code",
   "execution_count": 21,
   "metadata": {},
   "outputs": [
    {
     "data": {
      "text/plain": [
       "dict"
      ]
     },
     "execution_count": 21,
     "metadata": {},
     "output_type": "execute_result"
    }
   ],
   "source": [
    "type(user_dict)"
   ]
  },
  {
   "cell_type": "code",
   "execution_count": 23,
   "metadata": {},
   "outputs": [
    {
     "data": {
      "text/plain": [
       "'goofmint'"
      ]
     },
     "execution_count": 23,
     "metadata": {},
     "output_type": "execute_result"
    }
   ],
   "source": [
    "extract_user_id(user_dict_str)"
   ]
  },
  {
   "cell_type": "markdown",
   "metadata": {},
   "source": [
    "### ユーザーデータ取得実験"
   ]
  },
  {
   "cell_type": "code",
   "execution_count": 29,
   "metadata": {},
   "outputs": [],
   "source": [
    "qiita_user_str_list = qiita_item_df['user'].to_list()"
   ]
  },
  {
   "cell_type": "code",
   "execution_count": 30,
   "metadata": {},
   "outputs": [],
   "source": [
    "qiita_user_dict_list = []\n",
    "for qiita_user_str in qiita_user_str_list:\n",
    "    qiita_user_dict = ast.literal_eval(qiita_user_str)\n",
    "    qiita_user_dict_list.append(qiita_user_dict)"
   ]
  },
  {
   "cell_type": "code",
   "execution_count": 31,
   "metadata": {},
   "outputs": [
    {
     "data": {
      "text/plain": [
       "300"
      ]
     },
     "execution_count": 31,
     "metadata": {},
     "output_type": "execute_result"
    }
   ],
   "source": [
    "len(qiita_user_dict_list)"
   ]
  },
  {
   "cell_type": "code",
   "execution_count": 32,
   "metadata": {},
   "outputs": [
    {
     "data": {
      "text/plain": [
       "[{'description': 'MOONGIFT CEO. ニフクラ mobile backend & FRONT-END.AI エバンジェリスト',\n",
       "  'facebook_id': 'goofmint',\n",
       "  'followees_count': 1,\n",
       "  'followers_count': 43,\n",
       "  'github_login_name': None,\n",
       "  'id': 'goofmint',\n",
       "  'items_count': 107,\n",
       "  'linkedin_id': 'goofmint',\n",
       "  'location': 'Yokohama, Japan',\n",
       "  'name': '中津川 篤司',\n",
       "  'organization': 'MOONGIFT',\n",
       "  'permanent_id': 197026,\n",
       "  'profile_image_url': 'https://qiita-image-store.s3.amazonaws.com/0/197026/profile-images/1514355124',\n",
       "  'team_only': False,\n",
       "  'twitter_screen_name': 'goofmint',\n",
       "  'website_url': 'https://www.moongift.jp/'},\n",
       " {'description': '元・組込みミドルウェアエンジニア.\\r\\n現・DevOpsおよびDjangoバッグエンドエンジニア.\\r\\n保有資格: LPIC3\\r\\n\\r\\n\\r\\n\\r\\n',\n",
       "  'facebook_id': '',\n",
       "  'followees_count': 0,\n",
       "  'followers_count': 1,\n",
       "  'github_login_name': None,\n",
       "  'id': 'robozushi10',\n",
       "  'items_count': 63,\n",
       "  'linkedin_id': '',\n",
       "  'location': '',\n",
       "  'name': 'ロボ 寿司',\n",
       "  'organization': '',\n",
       "  'permanent_id': 1246056,\n",
       "  'profile_image_url': 'https://s3-ap-northeast-1.amazonaws.com/qiita-image-store/0/1246056/c9dc15e5034d396d3c56772617031ccdfdc6030d/x_large.png?1626964609',\n",
       "  'team_only': False,\n",
       "  'twitter_screen_name': None,\n",
       "  'website_url': ''},\n",
       " {'description': 'MOONGIFT CEO. ニフクラ mobile backend & FRONT-END.AI エバンジェリスト',\n",
       "  'facebook_id': 'goofmint',\n",
       "  'followees_count': 1,\n",
       "  'followers_count': 43,\n",
       "  'github_login_name': None,\n",
       "  'id': 'goofmint',\n",
       "  'items_count': 107,\n",
       "  'linkedin_id': 'goofmint',\n",
       "  'location': 'Yokohama, Japan',\n",
       "  'name': '中津川 篤司',\n",
       "  'organization': 'MOONGIFT',\n",
       "  'permanent_id': 197026,\n",
       "  'profile_image_url': 'https://qiita-image-store.s3.amazonaws.com/0/197026/profile-images/1514355124',\n",
       "  'team_only': False,\n",
       "  'twitter_screen_name': 'goofmint',\n",
       "  'website_url': 'https://www.moongift.jp/'}]"
      ]
     },
     "execution_count": 32,
     "metadata": {},
     "output_type": "execute_result"
    }
   ],
   "source": [
    "qiita_user_dict_list[:3]"
   ]
  },
  {
   "cell_type": "code",
   "execution_count": null,
   "metadata": {},
   "outputs": [],
   "source": []
  },
  {
   "cell_type": "code",
   "execution_count": null,
   "metadata": {},
   "outputs": [],
   "source": []
  },
  {
   "cell_type": "code",
   "execution_count": null,
   "metadata": {},
   "outputs": [],
   "source": []
  }
 ],
 "metadata": {
  "kernelspec": {
   "display_name": "Python 3",
   "language": "python",
   "name": "python3"
  },
  "language_info": {
   "codemirror_mode": {
    "name": "ipython",
    "version": 3
   },
   "file_extension": ".py",
   "mimetype": "text/x-python",
   "name": "python",
   "nbconvert_exporter": "python",
   "pygments_lexer": "ipython3",
   "version": "3.7.6"
  }
 },
 "nbformat": 4,
 "nbformat_minor": 4
}
